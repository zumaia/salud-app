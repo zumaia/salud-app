{
 "cells": [
  {
   "cell_type": "code",
   "execution_count": 1,
   "metadata": {},
   "outputs": [
    {
     "data": {
      "text/plain": [
       "{'bp': {'mean': 74.051, '25%': 60.0, '75%': 80.0},\n",
       " 'sg': {'mean': 1.02, '25%': 1.02, '75%': 1.025},\n",
       " 'al': {'mean': 0.797, '25%': 0.0, '75%': 1.0},\n",
       " 'su': {'mean': 0.253, '25%': 0.0, '75%': 0.0},\n",
       " 'rbc': {'mean': 0.114, '25%': 0.0, '75%': 0.0},\n",
       " 'pc': {'mean': 0.184, '25%': 0.0, '75%': 0.0},\n",
       " 'pcc': {'mean': 0.089, '25%': 0.0, '75%': 0.0}}"
      ]
     },
     "execution_count": 1,
     "metadata": {},
     "output_type": "execute_result"
    }
   ],
   "source": [
    "import numpy as np\n",
    "import pandas as pd\n",
    "from sklearn import ensemble\n",
    "from sklearn.model_selection import train_test_split\n",
    "from sklearn.metrics import accuracy_score, classification_report, confusion_matrix\n",
    "import joblib\n",
    "\n",
    "df = pd.read_csv(\"../data/kidney.csv\")\n",
    "\n",
    "df[['htn','dm','cad','pe','ane']] = df[['htn','dm','cad','pe','ane']].replace(to_replace={'yes':1,'no':0})\n",
    "df[['rbc','pc']] = df[['rbc','pc']].replace(to_replace={'abnormal':1,'normal':0})\n",
    "df[['pcc','ba']] = df[['pcc','ba']].replace(to_replace={'present':1,'notpresent':0})\n",
    "df[['appet']] = df[['appet']].replace(to_replace={'good':1,'poor':0,'no':np.nan})\n",
    "df['classification'] = df['classification'].replace(to_replace={'ckd':1.0,'ckd\\t':1.0,'notckd':0.0,'no':0.0})\n",
    "df.rename(columns={'classification':'class'},inplace=True)\n",
    "df['pe'] = df['pe'].replace(to_replace='good',value=0)\n",
    "df['appet'] = df['appet'].replace(to_replace='no',value=0)\n",
    "df['cad'] = df['cad'].replace(to_replace='\\tno',value=0)\n",
    "df['dm'] = df['dm'].replace(to_replace={'\\tno':0,'\\tyes':1,' yes':1, '':np.nan})\n",
    "\n",
    "df.drop('id',axis=1,inplace=True)\n",
    "df = df.dropna(axis=0)\n",
    "\n",
    "cols = ['bp', 'sg', 'al', 'su', 'rbc', 'pc', 'pcc']\n",
    "X = df[cols]\n",
    "y = df['class']\n",
    "summary = X.describe()\n",
    "\n",
    "\n",
    "summary.to_dict('dict')\n",
    "\n",
    "summary = summary.transpose()\n",
    "summary = summary[['mean','25%','75%']].round(decimals=3).transpose()\n",
    "summary.to_dict('dict')"
   ]
  },
  {
   "cell_type": "code",
   "execution_count": null,
   "metadata": {},
   "outputs": [],
   "source": [
    "X_train, X_test, y_train, y_test = train_test_split(X, y, test_size = 0.33, random_state=44, stratify= y)\n",
    "print('Set de entrenamiento: X:{}, y:{}'.format(X_train.shape, y_train.shape))\n",
    "print('Set de prueba: X:{}, y:{}'.format(X_test.shape, y_test.shape))\n",
    "\n",
    "model = ensemble.RandomForestClassifier()\n",
    "model.fit(X_train, y_train)\n",
    "y_pred = model.predict(X_test)\n",
    "print('Precisión : {}'.format(accuracy_score(y_test, y_pred)))\n",
    "\n",
    "clf_report = classification_report(y_test, y_pred)\n",
    "print('Informe de clasificación')\n",
    "print(\"---------------------\")\n",
    "print(clf_report)\n",
    "print(\"_____________________\")\n",
    "\n",
    "joblib.dump(model,r\"../kidney_model.pkl\")"
   ]
  }
 ],
 "metadata": {
  "kernelspec": {
   "display_name": "Python 3",
   "language": "python",
   "name": "python3"
  },
  "language_info": {
   "codemirror_mode": {
    "name": "ipython",
    "version": 3
   },
   "file_extension": ".py",
   "mimetype": "text/x-python",
   "name": "python",
   "nbconvert_exporter": "python",
   "pygments_lexer": "ipython3",
   "version": "3.7.6"
  }
 },
 "nbformat": 4,
 "nbformat_minor": 4
}
