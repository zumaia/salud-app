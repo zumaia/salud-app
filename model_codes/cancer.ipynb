{
 "cells": [
  {
   "cell_type": "code",
   "execution_count": 32,
   "metadata": {},
   "outputs": [],
   "source": [
    "import numpy as np\n",
    "import pandas as pd\n",
    "from sklearn import ensemble\n",
    "from sklearn.model_selection import train_test_split\n",
    "from sklearn.metrics import accuracy_score, classification_report, confusion_matrix\n",
    "import joblib"
   ]
  },
  {
   "cell_type": "code",
   "execution_count": 33,
   "metadata": {},
   "outputs": [],
   "source": [
    "df = pd.read_csv(r\"../data/cancer.csv\")\n",
    "df.drop(df.columns[[0,-1]], axis=1, inplace=True)\n",
    "# Split the features data and the target \n",
    "Xdata = df.drop(['diagnosis'], axis=1)\n",
    "ydata = df['diagnosis']"
   ]
  },
  {
   "cell_type": "code",
   "execution_count": 34,
   "metadata": {},
   "outputs": [],
   "source": [
    "# Encoding the target value \n",
    "yenc = np.asarray([1 if c == 'M' else 0 for c in ydata])\n",
    "cols = ['concave points_mean','area_mean','radius_mean','perimeter_mean','concavity_mean',]"
   ]
  },
  {
   "cell_type": "code",
   "execution_count": 35,
   "metadata": {},
   "outputs": [
    {
     "name": "stdout",
     "output_type": "stream",
     "text": [
      "Index(['concave points_mean', 'area_mean', 'radius_mean', 'perimeter_mean',\n",
      "       'concavity_mean'],\n",
      "      dtype='object')\n"
     ]
    }
   ],
   "source": [
    "Xdata = df[cols]\n",
    "print(Xdata.columns)"
   ]
  },
  {
   "cell_type": "code",
   "execution_count": 36,
   "metadata": {},
   "outputs": [
    {
     "data": {
      "text/plain": [
       "{'concave points_mean': {'mean': 0.049, '25%': 0.02, '75%': 0.074},\n",
       " 'area_mean': {'mean': 654.889, '25%': 420.3, '75%': 782.7},\n",
       " 'radius_mean': {'mean': 14.127, '25%': 11.7, '75%': 15.78},\n",
       " 'perimeter_mean': {'mean': 91.969, '25%': 75.17, '75%': 104.1},\n",
       " 'concavity_mean': {'mean': 0.089, '25%': 0.03, '75%': 0.131}}"
      ]
     },
     "execution_count": 36,
     "metadata": {},
     "output_type": "execute_result"
    }
   ],
   "source": [
    "summary = Xdata.describe()\n",
    "\n",
    "summary.to_dict('dict')\n",
    "\n",
    "summary = summary.transpose()\n",
    "summary = summary[['mean','25%','75%']].round(decimals=3).transpose()\n",
    "summary.to_dict('dict')"
   ]
  },
  {
   "cell_type": "code",
   "execution_count": 38,
   "metadata": {},
   "outputs": [
    {
     "name": "stdout",
     "output_type": "stream",
     "text": [
      "Set de entrenamiento: X:(398, 5), y:(398,)\n",
      "Set de prueba: X:(171, 5), y:(171,)\n",
      "Precisión : 0.9415204678362573\n",
      "Informe de clasificación\n",
      "---------------------\n",
      "              precision    recall  f1-score   support\n",
      "\n",
      "           0       0.96      0.95      0.96       114\n",
      "           1       0.90      0.93      0.91        57\n",
      "\n",
      "    accuracy                           0.94       171\n",
      "   macro avg       0.93      0.94      0.93       171\n",
      "weighted avg       0.94      0.94      0.94       171\n",
      "\n",
      "_____________________\n"
     ]
    },
    {
     "data": {
      "text/plain": [
       "['../cancer_model.pkl']"
      ]
     },
     "execution_count": 38,
     "metadata": {},
     "output_type": "execute_result"
    }
   ],
   "source": [
    "X_train, X_test, y_train, y_test = train_test_split(Xdata, yenc, \n",
    "                                                    test_size=0.3,\n",
    "                                                    random_state=43)\n",
    "print('Set de entrenamiento: X:{}, y:{}'.format(X_train.shape, y_train.shape))\n",
    "print('Set de prueba: X:{}, y:{}'.format(X_test.shape, y_test.shape))\n",
    "\n",
    "model = ensemble.RandomForestClassifier()\n",
    "model.fit(X_train, y_train)\n",
    "y_pred = model.predict(X_test)\n",
    "print('Precisión : {}'.format(accuracy_score(y_test, y_pred)))\n",
    "\n",
    "clf_report = classification_report(y_test, y_pred)\n",
    "print('Informe de clasificación')\n",
    "print(\"---------------------\")\n",
    "print(clf_report)\n",
    "print(\"_____________________\")\n",
    "\n",
    "joblib.dump(model,r\"../cancer_model.pkl\")"
   ]
  },
  {
   "cell_type": "code",
   "execution_count": null,
   "metadata": {},
   "outputs": [],
   "source": []
  }
 ],
 "metadata": {
  "kernelspec": {
   "display_name": "Python 3",
   "language": "python",
   "name": "python3"
  },
  "language_info": {
   "codemirror_mode": {
    "name": "ipython",
    "version": 3
   },
   "file_extension": ".py",
   "mimetype": "text/x-python",
   "name": "python",
   "nbconvert_exporter": "python",
   "pygments_lexer": "ipython3",
   "version": "3.7.6"
  }
 },
 "nbformat": 4,
 "nbformat_minor": 4
}
