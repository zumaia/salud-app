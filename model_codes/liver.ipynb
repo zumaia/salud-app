{
 "cells": [
  {
   "cell_type": "code",
   "execution_count": 1,
   "metadata": {},
   "outputs": [
    {
     "data": {
      "text/plain": [
       "{'Total_Bilirubin': {'mean': 3.299, '25%': 0.8, '75%': 2.6},\n",
       " 'Direct_Bilirubin': {'mean': 1.486, '25%': 0.2, '75%': 1.3},\n",
       " 'Alkaline_Phosphotase': {'mean': 290.576, '25%': 175.5, '75%': 298.0},\n",
       " 'Alamine_Aminotransferase': {'mean': 80.714, '25%': 23.0, '75%': 60.5},\n",
       " 'Total_Protiens': {'mean': 6.483, '25%': 5.8, '75%': 7.2},\n",
       " 'Albumin': {'mean': 3.142, '25%': 2.6, '75%': 3.8},\n",
       " 'Albumin_and_Globulin_Ratio': {'mean': 0.947, '25%': 0.7, '75%': 1.1}}"
      ]
     },
     "execution_count": 1,
     "metadata": {},
     "output_type": "execute_result"
    }
   ],
   "source": [
    "import numpy as np\n",
    "import pandas as pd\n",
    "from sklearn import ensemble\n",
    "from sklearn.model_selection import train_test_split\n",
    "from sklearn.metrics import accuracy_score, classification_report, confusion_matrix\n",
    "import joblib\n",
    "\n",
    "patients=pd.read_csv('../data/indian_liver_patient.csv')\n",
    "patients['Gender']=patients['Gender'].apply(lambda x:1 if x=='Male' else 0)\n",
    "patients=patients.fillna(0.94)\n",
    "\n",
    "X=patients[['Total_Bilirubin', 'Direct_Bilirubin',\n",
    "       'Alkaline_Phosphotase', 'Alamine_Aminotransferase',\n",
    "       'Total_Protiens', 'Albumin', 'Albumin_and_Globulin_Ratio']]\n",
    "y=patients['Dataset']\n",
    "summary = X.describe()\n",
    "\n",
    "\n",
    "summary.to_dict('dict')\n",
    "\n",
    "summary = summary.transpose()\n",
    "summary = summary[['mean','25%','75%']].round(decimals=3).transpose()\n",
    "summary.to_dict('dict')"
   ]
  },
  {
   "cell_type": "code",
   "execution_count": null,
   "metadata": {},
   "outputs": [],
   "source": [
    "X_train,X_test,y_train,y_test=train_test_split(X,y,test_size=0.3,random_state=123)\n",
    "\n",
    "print('Set de entrenamiento: X:{}, y:{}'.format(X_train.shape, y_train.shape))\n",
    "print('Set de prueba: X:{}, y:{}'.format(X_test.shape, y_test.shape))\n",
    "\n",
    "model = ensemble.RandomForestClassifier()\n",
    "model.fit(X_train, y_train)\n",
    "y_pred = model.predict(X_test)\n",
    "print('Precisión : {}'.format(accuracy_score(y_test, y_pred)))\n",
    "\n",
    "clf_report = classification_report(y_test, y_pred)\n",
    "print('Informe de clasificación')\n",
    "print(\"---------------------\")\n",
    "print(clf_report)\n",
    "print(\"_____________________\")\n",
    "\n",
    "joblib.dump(model,r\"../liver_model.pkl\")"
   ]
  }
 ],
 "metadata": {
  "kernelspec": {
   "display_name": "Python 3",
   "language": "python",
   "name": "python3"
  },
  "language_info": {
   "codemirror_mode": {
    "name": "ipython",
    "version": 3
   },
   "file_extension": ".py",
   "mimetype": "text/x-python",
   "name": "python",
   "nbconvert_exporter": "python",
   "pygments_lexer": "ipython3",
   "version": "3.7.6"
  }
 },
 "nbformat": 4,
 "nbformat_minor": 4
}
