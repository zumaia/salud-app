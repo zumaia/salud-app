{
 "cells": [
  {
   "cell_type": "code",
   "execution_count": 1,
   "metadata": {},
   "outputs": [
    {
     "data": {
      "text/plain": [
       "{'cp': {'mean': 0.967, '25%': 0.0, '75%': 2.0},\n",
       " 'trestbps': {'mean': 131.624, '25%': 120.0, '75%': 140.0},\n",
       " 'chol': {'mean': 246.264, '25%': 211.0, '75%': 274.5},\n",
       " 'fbs': {'mean': 0.149, '25%': 0.0, '75%': 0.0},\n",
       " 'restecg': {'mean': 0.528, '25%': 0.0, '75%': 1.0},\n",
       " 'thalach': {'mean': 149.647, '25%': 133.5, '75%': 166.0},\n",
       " 'exang': {'mean': 0.327, '25%': 0.0, '75%': 1.0}}"
      ]
     },
     "execution_count": 1,
     "metadata": {},
     "output_type": "execute_result"
    }
   ],
   "source": [
    "import numpy as np\n",
    "import pandas as pd\n",
    "from sklearn import ensemble\n",
    "from sklearn.model_selection import train_test_split\n",
    "from sklearn.metrics import accuracy_score, classification_report, confusion_matrix\n",
    "import joblib\n",
    "\n",
    "df = pd.read_csv(\"../data/heart.csv\")\n",
    "\n",
    "categorical_val = []\n",
    "continous_val = []\n",
    "for column in df.columns:\n",
    "    if len(df[column].unique()) <= 10:\n",
    "        categorical_val.append(column)\n",
    "    else:\n",
    "        continous_val.append(column)\n",
    "\n",
    "categorical_val.remove('target')\n",
    "dataset = pd.get_dummies(df, columns = categorical_val)\n",
    "\n",
    "cols = ['cp', 'trestbps', 'chol', 'fbs', 'restecg', 'thalach', 'exang']       \n",
    "X = df[cols]\n",
    "y = dataset.target\n",
    "summary = X.describe()\n",
    "\n",
    "\n",
    "summary.to_dict('dict')\n",
    "\n",
    "summary = summary.transpose()\n",
    "summary = summary[['mean','25%','75%']].round(decimals=3).transpose()\n",
    "summary.to_dict('dict')"
   ]
  },
  {
   "cell_type": "code",
   "execution_count": null,
   "metadata": {},
   "outputs": [],
   "source": [
    "X_train, X_test, y_train, y_test = train_test_split(X, y, test_size=0.3, random_state=42)\n",
    "\n",
    "print('Set de entrenamiento: X:{}, y:{}'.format(X_train.shape, y_train.shape))\n",
    "print('Set de prueba: X:{}, y:{}'.format(X_test.shape, y_test.shape))\n",
    "\n",
    "model = ensemble.RandomForestClassifier()\n",
    "model.fit(X_train, y_train)\n",
    "y_pred = model.predict(X_test)\n",
    "print('Precisión : {}'.format(accuracy_score(y_test, y_pred)))\n",
    "\n",
    "clf_report = classification_report(y_test, y_pred)\n",
    "print('Informe de clasificación')\n",
    "print(\"---------------------\")\n",
    "print(clf_report)\n",
    "print(\"_____________________\")\n",
    "\n",
    "joblib.dump(model,r\"../heart_model.pkl\")"
   ]
  }
 ],
 "metadata": {
  "kernelspec": {
   "display_name": "Python 3",
   "language": "python",
   "name": "python3"
  },
  "language_info": {
   "codemirror_mode": {
    "name": "ipython",
    "version": 3
   },
   "file_extension": ".py",
   "mimetype": "text/x-python",
   "name": "python",
   "nbconvert_exporter": "python",
   "pygments_lexer": "ipython3",
   "version": "3.7.6"
  }
 },
 "nbformat": 4,
 "nbformat_minor": 4
}
