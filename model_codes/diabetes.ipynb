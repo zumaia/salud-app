{
 "cells": [
  {
   "cell_type": "code",
   "execution_count": 3,
   "metadata": {},
   "outputs": [
    {
     "data": {
      "text/plain": [
       "{'Pregnancies': {'mean': 3.866, '25%': 1.0, '75%': 6.0},\n",
       " 'Glucose': {'mean': 121.883, '25%': 99.75, '75%': 142.0},\n",
       " 'BloodPressure': {'mean': 72.401, '25%': 64.0, '75%': 80.0},\n",
       " 'BMI': {'mean': 32.467, '25%': 27.5, '75%': 36.6},\n",
       " 'DiabetesPedigreeFunction': {'mean': 0.475, '25%': 0.245, '75%': 0.628},\n",
       " 'Age': {'mean': 33.351, '25%': 24.0, '75%': 41.0}}"
      ]
     },
     "execution_count": 3,
     "metadata": {},
     "output_type": "execute_result"
    }
   ],
   "source": [
    "import numpy as np\n",
    "import pandas as pd\n",
    "from sklearn import ensemble\n",
    "from sklearn.model_selection import train_test_split\n",
    "from sklearn.metrics import accuracy_score, classification_report, confusion_matrix\n",
    "import joblib\n",
    "\n",
    "df = pd.read_csv(r\"../data/diabetes.csv\")\n",
    "\n",
    "df['Glucose'].replace(0, np.nan, inplace=True)\n",
    "df['BloodPressure'].replace(0, np.nan, inplace=True)\n",
    "df['SkinThickness'].replace(0, np.nan, inplace=True)\n",
    "df['Insulin'].replace(0, np.nan, inplace=True)\n",
    "df['BMI'].replace(0, np.nan, inplace=True)\n",
    "df.drop(['SkinThickness' ,'Insulin'], axis=1, inplace=True)\n",
    "df = df.dropna(axis=0)\n",
    "\n",
    "cols = ['Pregnancies', 'Glucose', 'BloodPressure', 'BMI',\n",
    "       'DiabetesPedigreeFunction', 'Age', 'Outcome']\n",
    "\n",
    "df_outcome_1 = df[df['Outcome'] == 1].copy()\n",
    "i = len(df_outcome_1)\n",
    "df_outcome_0 = df[df['Outcome'] == 0].sample(i, random_state=1)\n",
    "df_balanced = df_outcome_0.append(df_outcome_1)\n",
    "df_balanced = df[cols]\n",
    "\n",
    "\n",
    "y = df_balanced['Outcome']\n",
    "X = df_balanced.drop('Outcome', axis=1)\n",
    "summary = X.describe()\n",
    "\n",
    "\n",
    "summary.to_dict('dict')\n",
    "\n",
    "summary = summary.transpose()\n",
    "summary = summary[['mean','25%','75%']].round(decimals=3).transpose()\n",
    "summary.to_dict('dict')"
   ]
  },
  {
   "cell_type": "code",
   "execution_count": null,
   "metadata": {},
   "outputs": [],
   "source": [
    "X_train, X_test, y_train, y_test = train_test_split(X, y, test_size=0.2\n",
    "                                                    , stratify=y, random_state=1)\n",
    "print('Set de entrenamiento: X:{}, y:{}'.format(X_train.shape, y_train.shape))\n",
    "print('Set de prueba: X:{}, y:{}'.format(X_test.shape, y_test.shape))\n",
    "\n",
    "model = ensemble.RandomForestClassifier()\n",
    "model.fit(X_train, y_train)\n",
    "y_pred = model.predict(X_test)\n",
    "print('Precisión : {}'.format(accuracy_score(y_test, y_pred)))\n",
    "\n",
    "clf_report = classification_report(y_test, y_pred)\n",
    "print('Informe de clasificación')\n",
    "print(\"---------------------\")\n",
    "print(clf_report)\n",
    "print(\"_____________________\")\n",
    "\n",
    "joblib.dump(model,r\"../diabetes_model.pkl\")"
   ]
  }
 ],
 "metadata": {
  "kernelspec": {
   "display_name": "Python 3",
   "language": "python",
   "name": "python3"
  },
  "language_info": {
   "codemirror_mode": {
    "name": "ipython",
    "version": 3
   },
   "file_extension": ".py",
   "mimetype": "text/x-python",
   "name": "python",
   "nbconvert_exporter": "python",
   "pygments_lexer": "ipython3",
   "version": "3.7.6"
  }
 },
 "nbformat": 4,
 "nbformat_minor": 4
}
